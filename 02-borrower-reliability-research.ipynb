{
 "cells": [
  {
   "cell_type": "markdown",
   "id": "e5c1d7c9",
   "metadata": {},
   "source": [
    "# 1. Data overview\n",
    "\n",
    "Let's form the first insight from bank client data"
   ]
  },
  {
   "cell_type": "markdown",
   "id": "6a2e5c63",
   "metadata": {},
   "source": [
    "Import necessary libraries"
   ]
  },
  {
   "cell_type": "code",
   "execution_count": 1,
   "id": "f01358d9",
   "metadata": {},
   "outputs": [],
   "source": [
    "import pandas as pd\n",
    "import matplotlib.pyplot as plt\n",
    "import numpy as np\n",
    "import seaborn as sns\n",
    "import numpy as np\n",
    "from IPython.display import display"
   ]
  },
  {
   "cell_type": "markdown",
   "id": "8ce19235",
   "metadata": {},
   "source": [
    "Load source of data (csv file)"
   ]
  },
  {
   "cell_type": "code",
   "execution_count": 2,
   "id": "e4d0e8d0",
   "metadata": {},
   "outputs": [],
   "source": [
    "data = pd.read_csv('data.csv')"
   ]
  },
  {
   "cell_type": "markdown",
   "id": "f24162a1",
   "metadata": {},
   "source": [
    "Print 10 random rows of the table to get an overview of its structure"
   ]
  },
  {
   "cell_type": "code",
   "execution_count": 3,
   "id": "0d593680",
   "metadata": {},
   "outputs": [
    {
     "data": {
      "text/html": [
       "<div>\n",
       "<style scoped>\n",
       "    .dataframe tbody tr th:only-of-type {\n",
       "        vertical-align: middle;\n",
       "    }\n",
       "\n",
       "    .dataframe tbody tr th {\n",
       "        vertical-align: top;\n",
       "    }\n",
       "\n",
       "    .dataframe thead th {\n",
       "        text-align: right;\n",
       "    }\n",
       "</style>\n",
       "<table border=\"1\" class=\"dataframe\">\n",
       "  <thead>\n",
       "    <tr style=\"text-align: right;\">\n",
       "      <th></th>\n",
       "      <th>children</th>\n",
       "      <th>days_employed</th>\n",
       "      <th>dob_years</th>\n",
       "      <th>education</th>\n",
       "      <th>education_id</th>\n",
       "      <th>family_status</th>\n",
       "      <th>family_status_id</th>\n",
       "      <th>gender</th>\n",
       "      <th>income_type</th>\n",
       "      <th>debt</th>\n",
       "      <th>total_income</th>\n",
       "      <th>purpose</th>\n",
       "    </tr>\n",
       "  </thead>\n",
       "  <tbody>\n",
       "    <tr>\n",
       "      <th>16050</th>\n",
       "      <td>0</td>\n",
       "      <td>-2390.792857</td>\n",
       "      <td>30</td>\n",
       "      <td>высшее</td>\n",
       "      <td>0</td>\n",
       "      <td>женат / замужем</td>\n",
       "      <td>0</td>\n",
       "      <td>F</td>\n",
       "      <td>сотрудник</td>\n",
       "      <td>0</td>\n",
       "      <td>133902.542711</td>\n",
       "      <td>покупка своего жилья</td>\n",
       "    </tr>\n",
       "    <tr>\n",
       "      <th>822</th>\n",
       "      <td>0</td>\n",
       "      <td>-180.875365</td>\n",
       "      <td>23</td>\n",
       "      <td>неоконченное высшее</td>\n",
       "      <td>2</td>\n",
       "      <td>женат / замужем</td>\n",
       "      <td>0</td>\n",
       "      <td>F</td>\n",
       "      <td>сотрудник</td>\n",
       "      <td>0</td>\n",
       "      <td>59323.507625</td>\n",
       "      <td>покупка коммерческой недвижимости</td>\n",
       "    </tr>\n",
       "    <tr>\n",
       "      <th>9834</th>\n",
       "      <td>0</td>\n",
       "      <td>-3504.024879</td>\n",
       "      <td>41</td>\n",
       "      <td>Среднее</td>\n",
       "      <td>1</td>\n",
       "      <td>женат / замужем</td>\n",
       "      <td>0</td>\n",
       "      <td>M</td>\n",
       "      <td>сотрудник</td>\n",
       "      <td>0</td>\n",
       "      <td>117209.073551</td>\n",
       "      <td>покупка коммерческой недвижимости</td>\n",
       "    </tr>\n",
       "    <tr>\n",
       "      <th>11179</th>\n",
       "      <td>2</td>\n",
       "      <td>-4277.229432</td>\n",
       "      <td>47</td>\n",
       "      <td>среднее</td>\n",
       "      <td>1</td>\n",
       "      <td>в разводе</td>\n",
       "      <td>3</td>\n",
       "      <td>F</td>\n",
       "      <td>госслужащий</td>\n",
       "      <td>0</td>\n",
       "      <td>217431.653642</td>\n",
       "      <td>получение образования</td>\n",
       "    </tr>\n",
       "    <tr>\n",
       "      <th>15449</th>\n",
       "      <td>0</td>\n",
       "      <td>389597.222031</td>\n",
       "      <td>54</td>\n",
       "      <td>среднее</td>\n",
       "      <td>1</td>\n",
       "      <td>женат / замужем</td>\n",
       "      <td>0</td>\n",
       "      <td>F</td>\n",
       "      <td>пенсионер</td>\n",
       "      <td>0</td>\n",
       "      <td>89488.624416</td>\n",
       "      <td>покупка своего жилья</td>\n",
       "    </tr>\n",
       "    <tr>\n",
       "      <th>18018</th>\n",
       "      <td>3</td>\n",
       "      <td>-1832.697440</td>\n",
       "      <td>37</td>\n",
       "      <td>среднее</td>\n",
       "      <td>1</td>\n",
       "      <td>Не женат / не замужем</td>\n",
       "      <td>4</td>\n",
       "      <td>F</td>\n",
       "      <td>компаньон</td>\n",
       "      <td>0</td>\n",
       "      <td>109599.120408</td>\n",
       "      <td>на покупку подержанного автомобиля</td>\n",
       "    </tr>\n",
       "    <tr>\n",
       "      <th>20743</th>\n",
       "      <td>0</td>\n",
       "      <td>-993.995430</td>\n",
       "      <td>52</td>\n",
       "      <td>среднее</td>\n",
       "      <td>1</td>\n",
       "      <td>женат / замужем</td>\n",
       "      <td>0</td>\n",
       "      <td>M</td>\n",
       "      <td>сотрудник</td>\n",
       "      <td>0</td>\n",
       "      <td>135867.145917</td>\n",
       "      <td>свой автомобиль</td>\n",
       "    </tr>\n",
       "    <tr>\n",
       "      <th>13510</th>\n",
       "      <td>1</td>\n",
       "      <td>-3346.338306</td>\n",
       "      <td>44</td>\n",
       "      <td>среднее</td>\n",
       "      <td>1</td>\n",
       "      <td>женат / замужем</td>\n",
       "      <td>0</td>\n",
       "      <td>F</td>\n",
       "      <td>компаньон</td>\n",
       "      <td>0</td>\n",
       "      <td>117822.864877</td>\n",
       "      <td>операции с жильем</td>\n",
       "    </tr>\n",
       "    <tr>\n",
       "      <th>14752</th>\n",
       "      <td>0</td>\n",
       "      <td>332819.258923</td>\n",
       "      <td>63</td>\n",
       "      <td>среднее</td>\n",
       "      <td>1</td>\n",
       "      <td>женат / замужем</td>\n",
       "      <td>0</td>\n",
       "      <td>M</td>\n",
       "      <td>пенсионер</td>\n",
       "      <td>0</td>\n",
       "      <td>177702.639821</td>\n",
       "      <td>покупка недвижимости</td>\n",
       "    </tr>\n",
       "    <tr>\n",
       "      <th>17366</th>\n",
       "      <td>1</td>\n",
       "      <td>-350.785287</td>\n",
       "      <td>28</td>\n",
       "      <td>среднее</td>\n",
       "      <td>1</td>\n",
       "      <td>женат / замужем</td>\n",
       "      <td>0</td>\n",
       "      <td>M</td>\n",
       "      <td>сотрудник</td>\n",
       "      <td>0</td>\n",
       "      <td>163206.005136</td>\n",
       "      <td>операции с жильем</td>\n",
       "    </tr>\n",
       "  </tbody>\n",
       "</table>\n",
       "</div>"
      ],
      "text/plain": [
       "       children  days_employed  dob_years            education  education_id  \\\n",
       "16050         0   -2390.792857         30               высшее             0   \n",
       "822           0    -180.875365         23  неоконченное высшее             2   \n",
       "9834          0   -3504.024879         41              Среднее             1   \n",
       "11179         2   -4277.229432         47              среднее             1   \n",
       "15449         0  389597.222031         54              среднее             1   \n",
       "18018         3   -1832.697440         37              среднее             1   \n",
       "20743         0    -993.995430         52              среднее             1   \n",
       "13510         1   -3346.338306         44              среднее             1   \n",
       "14752         0  332819.258923         63              среднее             1   \n",
       "17366         1    -350.785287         28              среднее             1   \n",
       "\n",
       "               family_status  family_status_id gender  income_type  debt  \\\n",
       "16050        женат / замужем                 0      F    сотрудник     0   \n",
       "822          женат / замужем                 0      F    сотрудник     0   \n",
       "9834         женат / замужем                 0      M    сотрудник     0   \n",
       "11179              в разводе                 3      F  госслужащий     0   \n",
       "15449        женат / замужем                 0      F    пенсионер     0   \n",
       "18018  Не женат / не замужем                 4      F    компаньон     0   \n",
       "20743        женат / замужем                 0      M    сотрудник     0   \n",
       "13510        женат / замужем                 0      F    компаньон     0   \n",
       "14752        женат / замужем                 0      M    пенсионер     0   \n",
       "17366        женат / замужем                 0      M    сотрудник     0   \n",
       "\n",
       "        total_income                             purpose  \n",
       "16050  133902.542711                покупка своего жилья  \n",
       "822     59323.507625   покупка коммерческой недвижимости  \n",
       "9834   117209.073551   покупка коммерческой недвижимости  \n",
       "11179  217431.653642               получение образования  \n",
       "15449   89488.624416                покупка своего жилья  \n",
       "18018  109599.120408  на покупку подержанного автомобиля  \n",
       "20743  135867.145917                     свой автомобиль  \n",
       "13510  117822.864877                   операции с жильем  \n",
       "14752  177702.639821                покупка недвижимости  \n",
       "17366  163206.005136                   операции с жильем  "
      ]
     },
     "execution_count": 3,
     "metadata": {},
     "output_type": "execute_result"
    }
   ],
   "source": [
    "data.sample(10)"
   ]
  },
  {
   "cell_type": "markdown",
   "id": "c143143e",
   "metadata": {},
   "source": [
    "Get general information about the data in the table"
   ]
  },
  {
   "cell_type": "code",
   "execution_count": 4,
   "id": "8f7baeea",
   "metadata": {},
   "outputs": [
    {
     "name": "stdout",
     "output_type": "stream",
     "text": [
      "<class 'pandas.core.frame.DataFrame'>\n",
      "RangeIndex: 21525 entries, 0 to 21524\n",
      "Data columns (total 12 columns):\n",
      " #   Column            Non-Null Count  Dtype  \n",
      "---  ------            --------------  -----  \n",
      " 0   children          21525 non-null  int64  \n",
      " 1   days_employed     19351 non-null  float64\n",
      " 2   dob_years         21525 non-null  int64  \n",
      " 3   education         21525 non-null  object \n",
      " 4   education_id      21525 non-null  int64  \n",
      " 5   family_status     21525 non-null  object \n",
      " 6   family_status_id  21525 non-null  int64  \n",
      " 7   gender            21525 non-null  object \n",
      " 8   income_type       21525 non-null  object \n",
      " 9   debt              21525 non-null  int64  \n",
      " 10  total_income      19351 non-null  float64\n",
      " 11  purpose           21525 non-null  object \n",
      "dtypes: float64(2), int64(5), object(5)\n",
      "memory usage: 2.0+ MB\n"
     ]
    }
   ],
   "source": [
    "data.info()"
   ]
  },
  {
   "cell_type": "code",
   "execution_count": 5,
   "id": "201f35bd",
   "metadata": {},
   "outputs": [
    {
     "data": {
      "text/html": [
       "<div>\n",
       "<style scoped>\n",
       "    .dataframe tbody tr th:only-of-type {\n",
       "        vertical-align: middle;\n",
       "    }\n",
       "\n",
       "    .dataframe tbody tr th {\n",
       "        vertical-align: top;\n",
       "    }\n",
       "\n",
       "    .dataframe thead th {\n",
       "        text-align: right;\n",
       "    }\n",
       "</style>\n",
       "<table border=\"1\" class=\"dataframe\">\n",
       "  <thead>\n",
       "    <tr style=\"text-align: right;\">\n",
       "      <th></th>\n",
       "      <th>children</th>\n",
       "      <th>days_employed</th>\n",
       "      <th>dob_years</th>\n",
       "      <th>education_id</th>\n",
       "      <th>family_status_id</th>\n",
       "      <th>debt</th>\n",
       "      <th>total_income</th>\n",
       "    </tr>\n",
       "  </thead>\n",
       "  <tbody>\n",
       "    <tr>\n",
       "      <th>count</th>\n",
       "      <td>21525.000000</td>\n",
       "      <td>19351.000000</td>\n",
       "      <td>21525.000000</td>\n",
       "      <td>21525.000000</td>\n",
       "      <td>21525.000000</td>\n",
       "      <td>21525.000000</td>\n",
       "      <td>1.935100e+04</td>\n",
       "    </tr>\n",
       "    <tr>\n",
       "      <th>mean</th>\n",
       "      <td>0.538908</td>\n",
       "      <td>63046.497661</td>\n",
       "      <td>43.293380</td>\n",
       "      <td>0.817236</td>\n",
       "      <td>0.972544</td>\n",
       "      <td>0.080883</td>\n",
       "      <td>1.674223e+05</td>\n",
       "    </tr>\n",
       "    <tr>\n",
       "      <th>std</th>\n",
       "      <td>1.381587</td>\n",
       "      <td>140827.311974</td>\n",
       "      <td>12.574584</td>\n",
       "      <td>0.548138</td>\n",
       "      <td>1.420324</td>\n",
       "      <td>0.272661</td>\n",
       "      <td>1.029716e+05</td>\n",
       "    </tr>\n",
       "    <tr>\n",
       "      <th>min</th>\n",
       "      <td>-1.000000</td>\n",
       "      <td>-18388.949901</td>\n",
       "      <td>0.000000</td>\n",
       "      <td>0.000000</td>\n",
       "      <td>0.000000</td>\n",
       "      <td>0.000000</td>\n",
       "      <td>2.066726e+04</td>\n",
       "    </tr>\n",
       "    <tr>\n",
       "      <th>25%</th>\n",
       "      <td>0.000000</td>\n",
       "      <td>-2747.423625</td>\n",
       "      <td>33.000000</td>\n",
       "      <td>1.000000</td>\n",
       "      <td>0.000000</td>\n",
       "      <td>0.000000</td>\n",
       "      <td>1.030532e+05</td>\n",
       "    </tr>\n",
       "    <tr>\n",
       "      <th>50%</th>\n",
       "      <td>0.000000</td>\n",
       "      <td>-1203.369529</td>\n",
       "      <td>42.000000</td>\n",
       "      <td>1.000000</td>\n",
       "      <td>0.000000</td>\n",
       "      <td>0.000000</td>\n",
       "      <td>1.450179e+05</td>\n",
       "    </tr>\n",
       "    <tr>\n",
       "      <th>75%</th>\n",
       "      <td>1.000000</td>\n",
       "      <td>-291.095954</td>\n",
       "      <td>53.000000</td>\n",
       "      <td>1.000000</td>\n",
       "      <td>1.000000</td>\n",
       "      <td>0.000000</td>\n",
       "      <td>2.034351e+05</td>\n",
       "    </tr>\n",
       "    <tr>\n",
       "      <th>max</th>\n",
       "      <td>20.000000</td>\n",
       "      <td>401755.400475</td>\n",
       "      <td>75.000000</td>\n",
       "      <td>4.000000</td>\n",
       "      <td>4.000000</td>\n",
       "      <td>1.000000</td>\n",
       "      <td>2.265604e+06</td>\n",
       "    </tr>\n",
       "  </tbody>\n",
       "</table>\n",
       "</div>"
      ],
      "text/plain": [
       "           children  days_employed     dob_years  education_id  \\\n",
       "count  21525.000000   19351.000000  21525.000000  21525.000000   \n",
       "mean       0.538908   63046.497661     43.293380      0.817236   \n",
       "std        1.381587  140827.311974     12.574584      0.548138   \n",
       "min       -1.000000  -18388.949901      0.000000      0.000000   \n",
       "25%        0.000000   -2747.423625     33.000000      1.000000   \n",
       "50%        0.000000   -1203.369529     42.000000      1.000000   \n",
       "75%        1.000000    -291.095954     53.000000      1.000000   \n",
       "max       20.000000  401755.400475     75.000000      4.000000   \n",
       "\n",
       "       family_status_id          debt  total_income  \n",
       "count      21525.000000  21525.000000  1.935100e+04  \n",
       "mean           0.972544      0.080883  1.674223e+05  \n",
       "std            1.420324      0.272661  1.029716e+05  \n",
       "min            0.000000      0.000000  2.066726e+04  \n",
       "25%            0.000000      0.000000  1.030532e+05  \n",
       "50%            0.000000      0.000000  1.450179e+05  \n",
       "75%            1.000000      0.000000  2.034351e+05  \n",
       "max            4.000000      1.000000  2.265604e+06  "
      ]
     },
     "execution_count": 5,
     "metadata": {},
     "output_type": "execute_result"
    }
   ],
   "source": [
    "data.describe()"
   ]
  },
  {
   "cell_type": "code",
   "execution_count": 6,
   "id": "9d1ca87f",
   "metadata": {},
   "outputs": [
    {
     "data": {
      "text/plain": [
       "children               0\n",
       "days_employed       2174\n",
       "dob_years              0\n",
       "education              0\n",
       "education_id           0\n",
       "family_status          0\n",
       "family_status_id       0\n",
       "gender                 0\n",
       "income_type            0\n",
       "debt                   0\n",
       "total_income        2174\n",
       "purpose                0\n",
       "dtype: int64"
      ]
     },
     "execution_count": 6,
     "metadata": {},
     "output_type": "execute_result"
    }
   ],
   "source": [
    "data.isna().sum()"
   ]
  },
  {
   "cell_type": "markdown",
   "id": "2b6e0b43",
   "metadata": {},
   "source": [
    "### Section 1 conclusions"
   ]
  },
  {
   "cell_type": "markdown",
   "id": "c60e6cc7",
   "metadata": {},
   "source": [
    "- There are some gaps in columns **days_employed** and **total_income** near 10% of initial data.\n",
    "- All numeric features have appropriate data types."
   ]
  },
  {
   "cell_type": "markdown",
   "id": "961b4ed1",
   "metadata": {},
   "source": [
    "# 2. Data preprocessing"
   ]
  },
  {
   "cell_type": "markdown",
   "id": "de64c6ac",
   "metadata": {},
   "source": [
    "### 2.1 Filling gaps in data"
   ]
  },
  {
   "cell_type": "markdown",
   "id": "be16b2cc",
   "metadata": {},
   "source": [
    "One of the features with missing values **total_income** stores data on income. \n",
    "\n",
    "According to the input from the data owner, the type of employment (**income_type**) has the biggest impact on the amount of income (**total_income**). Therefore, we should fill in the gaps in **total_income** with the median value for each type from the **income_type** feature."
   ]
  },
  {
   "cell_type": "code",
   "execution_count": 7,
   "id": "471b468d",
   "metadata": {},
   "outputs": [],
   "source": [
    "for item in data['income_type'].unique():\n",
    "    data.loc[(data['income_type'] == item) & (data['total_income'].isna()), 'total_income'] = \\\n",
    "    data.loc[(data['income_type'] == item), 'total_income'].median()"
   ]
  },
  {
   "cell_type": "markdown",
   "id": "16b75e64",
   "metadata": {},
   "source": [
    "In column **days_employed** we saw the negative values, replace them on positive ones"
   ]
  },
  {
   "cell_type": "code",
   "execution_count": 8,
   "id": "976fe1df",
   "metadata": {},
   "outputs": [],
   "source": [
    "data['days_employed'] = data['days_employed'].abs()"
   ]
  },
  {
   "cell_type": "markdown",
   "id": "b392b0b2",
   "metadata": {},
   "source": [
    "Similar to the total_income feature, we fill in the blanks in the days_employed column with median values for each income_type of employment. \n",
    "\n",
    "The median is chosen because it is more resistant to outliers than the arithmetic mean. "
   ]
  },
  {
   "cell_type": "code",
   "execution_count": 9,
   "id": "8b3e20ad",
   "metadata": {},
   "outputs": [],
   "source": [
    "for item in data['income_type'].unique():\n",
    "    data.loc[(data['income_type'] == item) & (data['days_employed'].isna()), 'days_employed'] = \\\n",
    "    data.loc[(data['income_type'] == item), 'days_employed'].median()"
   ]
  },
  {
   "cell_type": "markdown",
   "id": "7dbb8339",
   "metadata": {},
   "source": [
    "Make sure all gaps are filled in"
   ]
  },
  {
   "cell_type": "markdown",
   "id": "cd30da61",
   "metadata": {},
   "source": [
    "data.isna().sum()"
   ]
  },
  {
   "cell_type": "markdown",
   "id": "2db58a6b",
   "metadata": {},
   "source": [
    "### 2.2 Processing abnormal values"
   ]
  },
  {
   "cell_type": "markdown",
   "id": "43b91d9d",
   "metadata": {},
   "source": [
    "When using the describe() method, we saw anomalies in **children** feature data. Let's take a closer look at them."
   ]
  },
  {
   "cell_type": "code",
   "execution_count": 10,
   "id": "03642783",
   "metadata": {},
   "outputs": [
    {
     "data": {
      "text/plain": [
       " 0     14149\n",
       " 1      4818\n",
       " 2      2055\n",
       " 3       330\n",
       " 20       76\n",
       "-1        47\n",
       " 4        41\n",
       " 5         9\n",
       "Name: children, dtype: int64"
      ]
     },
     "execution_count": 10,
     "metadata": {},
     "output_type": "execute_result"
    }
   ],
   "source": [
    "data['children'].value_counts()"
   ]
  },
  {
   "cell_type": "markdown",
   "id": "afce2c83",
   "metadata": {},
   "source": [
    "Abnormal values *-1* and *20* totally is less than 0,5% of initial data. We remove them from the further research"
   ]
  },
  {
   "cell_type": "code",
   "execution_count": 11,
   "id": "aa7f8a99",
   "metadata": {},
   "outputs": [],
   "source": [
    "data = data[(data['children'] != -1) & (data['children'] != 20)]"
   ]
  },
  {
   "cell_type": "markdown",
   "id": "c2845930",
   "metadata": {},
   "source": [
    "### 2.3 Duplicate processing + Data categorization"
   ]
  },
  {
   "cell_type": "markdown",
   "id": "e8217d15",
   "metadata": {},
   "source": [
    "Look at the data in features with data type is object"
   ]
  },
  {
   "cell_type": "code",
   "execution_count": 12,
   "id": "a1d34638",
   "metadata": {},
   "outputs": [
    {
     "data": {
      "text/plain": [
       "['education', 'family_status', 'gender', 'income_type', 'purpose']"
      ]
     },
     "execution_count": 12,
     "metadata": {},
     "output_type": "execute_result"
    }
   ],
   "source": [
    "object_columns_name = data.select_dtypes(include=['object']).columns.tolist()\n",
    "object_columns_name"
   ]
  },
  {
   "cell_type": "code",
   "execution_count": 13,
   "id": "c4bb8ac3",
   "metadata": {},
   "outputs": [
    {
     "name": "stdout",
     "output_type": "stream",
     "text": [
      "Unique values of 'education':\n",
      "['высшее' 'среднее' 'Среднее' 'СРЕДНЕЕ' 'ВЫСШЕЕ' 'неоконченное высшее'\n",
      " 'начальное' 'Высшее' 'НЕОКОНЧЕННОЕ ВЫСШЕЕ' 'Неоконченное высшее'\n",
      " 'НАЧАЛЬНОЕ' 'Начальное' 'Ученая степень' 'УЧЕНАЯ СТЕПЕНЬ'\n",
      " 'ученая степень']\n",
      "\n",
      "Unique values of 'family_status':\n",
      "['женат / замужем' 'гражданский брак' 'вдовец / вдова' 'в разводе'\n",
      " 'Не женат / не замужем']\n",
      "\n",
      "Unique values of 'gender':\n",
      "['F' 'M' 'XNA']\n",
      "\n",
      "Unique values of 'income_type':\n",
      "['сотрудник' 'пенсионер' 'компаньон' 'госслужащий' 'безработный'\n",
      " 'предприниматель' 'студент' 'в декрете']\n",
      "\n",
      "Unique values of 'purpose':\n",
      "['покупка жилья' 'приобретение автомобиля' 'дополнительное образование'\n",
      " 'сыграть свадьбу' 'операции с жильем' 'образование'\n",
      " 'на проведение свадьбы' 'покупка жилья для семьи' 'покупка недвижимости'\n",
      " 'покупка коммерческой недвижимости' 'покупка жилой недвижимости'\n",
      " 'строительство собственной недвижимости' 'недвижимость'\n",
      " 'строительство недвижимости' 'на покупку подержанного автомобиля'\n",
      " 'на покупку своего автомобиля' 'операции с коммерческой недвижимостью'\n",
      " 'строительство жилой недвижимости' 'жилье'\n",
      " 'операции со своей недвижимостью' 'автомобили' 'заняться образованием'\n",
      " 'сделка с подержанным автомобилем' 'получение образования' 'автомобиль'\n",
      " 'свадьба' 'получение дополнительного образования' 'покупка своего жилья'\n",
      " 'операции с недвижимостью' 'получение высшего образования'\n",
      " 'свой автомобиль' 'сделка с автомобилем' 'профильное образование'\n",
      " 'высшее образование' 'покупка жилья для сдачи' 'на покупку автомобиля'\n",
      " 'ремонт жилью' 'заняться высшим образованием']\n",
      "\n"
     ]
    }
   ],
   "source": [
    "for column in object_columns_name:\n",
    "    \n",
    "    unique_values = data[column].unique()\n",
    "    \n",
    "    print(f\"Unique values of '{column}':\")\n",
    "    print(unique_values)\n",
    "    print()"
   ]
  },
  {
   "cell_type": "markdown",
   "id": "057414af",
   "metadata": {},
   "source": [
    "We see implicit duplicates in 2 features: **education** and **purpose**. \n",
    "Let's process the implicit duplicates in the **education** column."
   ]
  },
  {
   "cell_type": "code",
   "execution_count": 14,
   "id": "cbc2aa5d",
   "metadata": {},
   "outputs": [],
   "source": [
    "data['education'] = data['education'].str.lower()"
   ]
  },
  {
   "cell_type": "markdown",
   "id": "56077f2a",
   "metadata": {},
   "source": [
    "We handle implicit duplicates in the **purpose** column using data categorization"
   ]
  },
  {
   "cell_type": "code",
   "execution_count": 15,
   "id": "b63765e0",
   "metadata": {},
   "outputs": [],
   "source": [
    "def categorize_purpose(row):\n",
    "    try:\n",
    "        if 'автом' in row:\n",
    "            return 'Vehicle'\n",
    "        elif 'жил' in row or 'недвиж' in row:\n",
    "            return 'Real estate'\n",
    "        elif 'свад' in row:\n",
    "            return 'Wedding'\n",
    "        elif 'образов' in row:\n",
    "            return 'Education'\n",
    "    except:\n",
    "        return 'No category'"
   ]
  },
  {
   "cell_type": "code",
   "execution_count": 16,
   "id": "50c1eb35",
   "metadata": {},
   "outputs": [],
   "source": [
    "data['purpose_category'] = data['purpose'].apply(categorize_purpose)"
   ]
  },
  {
   "cell_type": "markdown",
   "id": "7dba35bb",
   "metadata": {},
   "source": [
    "Let's take a look at the results of the categorization"
   ]
  },
  {
   "cell_type": "code",
   "execution_count": 17,
   "id": "aa74144c",
   "metadata": {},
   "outputs": [
    {
     "data": {
      "text/plain": [
       "<AxesSubplot:>"
      ]
     },
     "execution_count": 17,
     "metadata": {},
     "output_type": "execute_result"
    },
    {
     "data": {
      "image/png": "[encoded data removed]",
      "text/plain": [
       "<Figure size 800x200 with 1 Axes>"
      ]
     },
     "metadata": {},
     "output_type": "display_data"
    }
   ],
   "source": [
    "data['purpose_category'].value_counts().plot(kind=\"bar\", figsize=(8, 2))"
   ]
  },
  {
   "cell_type": "markdown",
   "id": "6173d766",
   "metadata": {},
   "source": [
    "Let's remove explicit duplicates in all columns except **purpose**"
   ]
  },
  {
   "cell_type": "code",
   "execution_count": 18,
   "id": "b26f6fce",
   "metadata": {},
   "outputs": [
    {
     "name": "stdout",
     "output_type": "stream",
     "text": [
      "<class 'pandas.core.frame.DataFrame'>\n",
      "RangeIndex: 20997 entries, 0 to 20996\n",
      "Data columns (total 13 columns):\n",
      " #   Column            Non-Null Count  Dtype  \n",
      "---  ------            --------------  -----  \n",
      " 0   children          20997 non-null  int64  \n",
      " 1   days_employed     20997 non-null  float64\n",
      " 2   dob_years         20997 non-null  int64  \n",
      " 3   education         20997 non-null  object \n",
      " 4   education_id      20997 non-null  int64  \n",
      " 5   family_status     20997 non-null  object \n",
      " 6   family_status_id  20997 non-null  int64  \n",
      " 7   gender            20997 non-null  object \n",
      " 8   income_type       20997 non-null  object \n",
      " 9   debt              20997 non-null  int64  \n",
      " 10  total_income      20997 non-null  float64\n",
      " 11  purpose           20997 non-null  object \n",
      " 12  purpose_category  20997 non-null  object \n",
      "dtypes: float64(2), int64(5), object(6)\n",
      "memory usage: 2.1+ MB\n"
     ]
    }
   ],
   "source": [
    "filtered_data = data.drop_duplicates(subset=data.columns.difference(['purpose'])).reset_index(drop=True)\n",
    "filtered_data.info()"
   ]
  },
  {
   "cell_type": "code",
   "execution_count": 19,
   "id": "f8265454",
   "metadata": {},
   "outputs": [
    {
     "data": {
      "text/plain": [
       "0.018923465096719938"
      ]
     },
     "execution_count": 19,
     "metadata": {},
     "output_type": "execute_result"
    }
   ],
   "source": [
    "filter_rate = 1 - len(filtered_data) / len(data)\n",
    "filter_rate"
   ]
  },
  {
   "cell_type": "markdown",
   "id": "38000ff4",
   "metadata": {},
   "source": [
    "Duplicate rows took up 1.9% of the observed data"
   ]
  },
  {
   "cell_type": "markdown",
   "id": "c301d8a7",
   "metadata": {},
   "source": [
    "At the request of the data owner, based on the ranges given by them below, let's create a **total_income_category** column in the dataframe with categories:\n",
    "\n",
    "- 0-30000 - 'E';\n",
    "- 30001-50000 - 'D';\n",
    "- 50001-200000 - 'C';\n",
    "- 200001-1000000 - 'B';\n",
    "- 1000001 and above - 'A'."
   ]
  },
  {
   "cell_type": "code",
   "execution_count": 20,
   "id": "8c8cc71a",
   "metadata": {},
   "outputs": [],
   "source": [
    "def categorize_income(income):\n",
    "    try:\n",
    "        if 0 <= income <= 30000:\n",
    "            return 'E'\n",
    "        elif 30001 <= income <= 50000:\n",
    "            return 'D'\n",
    "        elif 50001 <= income <= 200000:\n",
    "            return 'C'\n",
    "        elif 200001 <= income <= 1000000:\n",
    "            return 'B'\n",
    "        elif income >= 1000001:\n",
    "            return 'A'\n",
    "    except:\n",
    "        pass"
   ]
  },
  {
   "cell_type": "code",
   "execution_count": 21,
   "id": "139a86ec",
   "metadata": {},
   "outputs": [],
   "source": [
    "filtered_data['total_income_category'] = filtered_data['total_income'].apply(categorize_income)"
   ]
  },
  {
   "cell_type": "code",
   "execution_count": 22,
   "id": "2f40dd5f",
   "metadata": {},
   "outputs": [
    {
     "data": {
      "text/html": [
       "<div>\n",
       "<style scoped>\n",
       "    .dataframe tbody tr th:only-of-type {\n",
       "        vertical-align: middle;\n",
       "    }\n",
       "\n",
       "    .dataframe tbody tr th {\n",
       "        vertical-align: top;\n",
       "    }\n",
       "\n",
       "    .dataframe thead th {\n",
       "        text-align: right;\n",
       "    }\n",
       "</style>\n",
       "<table border=\"1\" class=\"dataframe\">\n",
       "  <thead>\n",
       "    <tr style=\"text-align: right;\">\n",
       "      <th></th>\n",
       "      <th>children</th>\n",
       "      <th>days_employed</th>\n",
       "      <th>dob_years</th>\n",
       "      <th>education</th>\n",
       "      <th>education_id</th>\n",
       "      <th>family_status</th>\n",
       "      <th>family_status_id</th>\n",
       "      <th>gender</th>\n",
       "      <th>income_type</th>\n",
       "      <th>debt</th>\n",
       "      <th>total_income</th>\n",
       "      <th>purpose</th>\n",
       "      <th>purpose_category</th>\n",
       "      <th>total_income_category</th>\n",
       "    </tr>\n",
       "  </thead>\n",
       "  <tbody>\n",
       "    <tr>\n",
       "      <th>20717</th>\n",
       "      <td>0</td>\n",
       "      <td>2707.304145</td>\n",
       "      <td>60</td>\n",
       "      <td>высшее</td>\n",
       "      <td>0</td>\n",
       "      <td>женат / замужем</td>\n",
       "      <td>0</td>\n",
       "      <td>M</td>\n",
       "      <td>компаньон</td>\n",
       "      <td>0</td>\n",
       "      <td>482220.148794</td>\n",
       "      <td>покупка недвижимости</td>\n",
       "      <td>Real estate</td>\n",
       "      <td>B</td>\n",
       "    </tr>\n",
       "    <tr>\n",
       "      <th>17985</th>\n",
       "      <td>0</td>\n",
       "      <td>2530.104519</td>\n",
       "      <td>46</td>\n",
       "      <td>среднее</td>\n",
       "      <td>1</td>\n",
       "      <td>гражданский брак</td>\n",
       "      <td>1</td>\n",
       "      <td>F</td>\n",
       "      <td>компаньон</td>\n",
       "      <td>0</td>\n",
       "      <td>261937.407981</td>\n",
       "      <td>на покупку своего автомобиля</td>\n",
       "      <td>Vehicle</td>\n",
       "      <td>B</td>\n",
       "    </tr>\n",
       "    <tr>\n",
       "      <th>14685</th>\n",
       "      <td>2</td>\n",
       "      <td>1705.635634</td>\n",
       "      <td>31</td>\n",
       "      <td>высшее</td>\n",
       "      <td>0</td>\n",
       "      <td>женат / замужем</td>\n",
       "      <td>0</td>\n",
       "      <td>F</td>\n",
       "      <td>сотрудник</td>\n",
       "      <td>0</td>\n",
       "      <td>74780.420356</td>\n",
       "      <td>покупка жилья для семьи</td>\n",
       "      <td>Real estate</td>\n",
       "      <td>C</td>\n",
       "    </tr>\n",
       "    <tr>\n",
       "      <th>5381</th>\n",
       "      <td>2</td>\n",
       "      <td>564.237723</td>\n",
       "      <td>31</td>\n",
       "      <td>среднее</td>\n",
       "      <td>1</td>\n",
       "      <td>женат / замужем</td>\n",
       "      <td>0</td>\n",
       "      <td>F</td>\n",
       "      <td>сотрудник</td>\n",
       "      <td>1</td>\n",
       "      <td>112557.502286</td>\n",
       "      <td>недвижимость</td>\n",
       "      <td>Real estate</td>\n",
       "      <td>C</td>\n",
       "    </tr>\n",
       "    <tr>\n",
       "      <th>20466</th>\n",
       "      <td>0</td>\n",
       "      <td>4251.220458</td>\n",
       "      <td>39</td>\n",
       "      <td>среднее</td>\n",
       "      <td>1</td>\n",
       "      <td>Не женат / не замужем</td>\n",
       "      <td>4</td>\n",
       "      <td>M</td>\n",
       "      <td>компаньон</td>\n",
       "      <td>0</td>\n",
       "      <td>289959.013196</td>\n",
       "      <td>строительство собственной недвижимости</td>\n",
       "      <td>Real estate</td>\n",
       "      <td>B</td>\n",
       "    </tr>\n",
       "    <tr>\n",
       "      <th>19260</th>\n",
       "      <td>1</td>\n",
       "      <td>2923.608172</td>\n",
       "      <td>38</td>\n",
       "      <td>среднее</td>\n",
       "      <td>1</td>\n",
       "      <td>женат / замужем</td>\n",
       "      <td>0</td>\n",
       "      <td>F</td>\n",
       "      <td>сотрудник</td>\n",
       "      <td>1</td>\n",
       "      <td>165211.882128</td>\n",
       "      <td>сделка с подержанным автомобилем</td>\n",
       "      <td>Vehicle</td>\n",
       "      <td>C</td>\n",
       "    </tr>\n",
       "    <tr>\n",
       "      <th>18211</th>\n",
       "      <td>2</td>\n",
       "      <td>229.890507</td>\n",
       "      <td>30</td>\n",
       "      <td>среднее</td>\n",
       "      <td>1</td>\n",
       "      <td>в разводе</td>\n",
       "      <td>3</td>\n",
       "      <td>F</td>\n",
       "      <td>сотрудник</td>\n",
       "      <td>0</td>\n",
       "      <td>119834.370513</td>\n",
       "      <td>операции с коммерческой недвижимостью</td>\n",
       "      <td>Real estate</td>\n",
       "      <td>C</td>\n",
       "    </tr>\n",
       "    <tr>\n",
       "      <th>13127</th>\n",
       "      <td>0</td>\n",
       "      <td>5162.210556</td>\n",
       "      <td>49</td>\n",
       "      <td>среднее</td>\n",
       "      <td>1</td>\n",
       "      <td>вдовец / вдова</td>\n",
       "      <td>2</td>\n",
       "      <td>F</td>\n",
       "      <td>сотрудник</td>\n",
       "      <td>0</td>\n",
       "      <td>179149.236672</td>\n",
       "      <td>ремонт жилью</td>\n",
       "      <td>Real estate</td>\n",
       "      <td>C</td>\n",
       "    </tr>\n",
       "    <tr>\n",
       "      <th>16634</th>\n",
       "      <td>1</td>\n",
       "      <td>3193.976851</td>\n",
       "      <td>33</td>\n",
       "      <td>среднее</td>\n",
       "      <td>1</td>\n",
       "      <td>женат / замужем</td>\n",
       "      <td>0</td>\n",
       "      <td>F</td>\n",
       "      <td>компаньон</td>\n",
       "      <td>0</td>\n",
       "      <td>141944.618305</td>\n",
       "      <td>операции с недвижимостью</td>\n",
       "      <td>Real estate</td>\n",
       "      <td>C</td>\n",
       "    </tr>\n",
       "    <tr>\n",
       "      <th>15549</th>\n",
       "      <td>0</td>\n",
       "      <td>176.418747</td>\n",
       "      <td>48</td>\n",
       "      <td>среднее</td>\n",
       "      <td>1</td>\n",
       "      <td>женат / замужем</td>\n",
       "      <td>0</td>\n",
       "      <td>F</td>\n",
       "      <td>компаньон</td>\n",
       "      <td>0</td>\n",
       "      <td>158459.681020</td>\n",
       "      <td>операции с недвижимостью</td>\n",
       "      <td>Real estate</td>\n",
       "      <td>C</td>\n",
       "    </tr>\n",
       "  </tbody>\n",
       "</table>\n",
       "</div>"
      ],
      "text/plain": [
       "       children  days_employed  dob_years education  education_id  \\\n",
       "20717         0    2707.304145         60    высшее             0   \n",
       "17985         0    2530.104519         46   среднее             1   \n",
       "14685         2    1705.635634         31    высшее             0   \n",
       "5381          2     564.237723         31   среднее             1   \n",
       "20466         0    4251.220458         39   среднее             1   \n",
       "19260         1    2923.608172         38   среднее             1   \n",
       "18211         2     229.890507         30   среднее             1   \n",
       "13127         0    5162.210556         49   среднее             1   \n",
       "16634         1    3193.976851         33   среднее             1   \n",
       "15549         0     176.418747         48   среднее             1   \n",
       "\n",
       "               family_status  family_status_id gender income_type  debt  \\\n",
       "20717        женат / замужем                 0      M   компаньон     0   \n",
       "17985       гражданский брак                 1      F   компаньон     0   \n",
       "14685        женат / замужем                 0      F   сотрудник     0   \n",
       "5381         женат / замужем                 0      F   сотрудник     1   \n",
       "20466  Не женат / не замужем                 4      M   компаньон     0   \n",
       "19260        женат / замужем                 0      F   сотрудник     1   \n",
       "18211              в разводе                 3      F   сотрудник     0   \n",
       "13127         вдовец / вдова                 2      F   сотрудник     0   \n",
       "16634        женат / замужем                 0      F   компаньон     0   \n",
       "15549        женат / замужем                 0      F   компаньон     0   \n",
       "\n",
       "        total_income                                 purpose purpose_category  \\\n",
       "20717  482220.148794                    покупка недвижимости      Real estate   \n",
       "17985  261937.407981            на покупку своего автомобиля          Vehicle   \n",
       "14685   74780.420356                 покупка жилья для семьи      Real estate   \n",
       "5381   112557.502286                            недвижимость      Real estate   \n",
       "20466  289959.013196  строительство собственной недвижимости      Real estate   \n",
       "19260  165211.882128        сделка с подержанным автомобилем          Vehicle   \n",
       "18211  119834.370513   операции с коммерческой недвижимостью      Real estate   \n",
       "13127  179149.236672                            ремонт жилью      Real estate   \n",
       "16634  141944.618305                операции с недвижимостью      Real estate   \n",
       "15549  158459.681020                операции с недвижимостью      Real estate   \n",
       "\n",
       "      total_income_category  \n",
       "20717                     B  \n",
       "17985                     B  \n",
       "14685                     C  \n",
       "5381                      C  \n",
       "20466                     B  \n",
       "19260                     C  \n",
       "18211                     C  \n",
       "13127                     C  \n",
       "16634                     C  \n",
       "15549                     C  "
      ]
     },
     "execution_count": 22,
     "metadata": {},
     "output_type": "execute_result"
    }
   ],
   "source": [
    "filtered_data.sample(10)"
   ]
  },
  {
   "cell_type": "code",
   "execution_count": 23,
   "id": "f85e5960",
   "metadata": {},
   "outputs": [
    {
     "name": "stdout",
     "output_type": "stream",
     "text": [
      "<class 'pandas.core.frame.DataFrame'>\n",
      "RangeIndex: 20997 entries, 0 to 20996\n",
      "Data columns (total 14 columns):\n",
      " #   Column                 Non-Null Count  Dtype  \n",
      "---  ------                 --------------  -----  \n",
      " 0   children               20997 non-null  int64  \n",
      " 1   days_employed          20997 non-null  float64\n",
      " 2   dob_years              20997 non-null  int64  \n",
      " 3   education              20997 non-null  object \n",
      " 4   education_id           20997 non-null  int64  \n",
      " 5   family_status          20997 non-null  object \n",
      " 6   family_status_id       20997 non-null  int64  \n",
      " 7   gender                 20997 non-null  object \n",
      " 8   income_type            20997 non-null  object \n",
      " 9   debt                   20997 non-null  int64  \n",
      " 10  total_income           20997 non-null  float64\n",
      " 11  purpose                20997 non-null  object \n",
      " 12  purpose_category       20997 non-null  object \n",
      " 13  total_income_category  20997 non-null  object \n",
      "dtypes: float64(2), int64(5), object(7)\n",
      "memory usage: 2.2+ MB\n"
     ]
    }
   ],
   "source": [
    "filtered_data.info()"
   ]
  },
  {
   "cell_type": "markdown",
   "id": "ad90116e",
   "metadata": {},
   "source": [
    "### Section 2 conclusions"
   ]
  },
  {
   "cell_type": "markdown",
   "id": "5e1f74f6",
   "metadata": {},
   "source": [
    "We prepared the initial data to analyze:\n",
    "- filled gaps;\n",
    "- processed abnormal values;\n",
    "- removed explicit and implicit duplicates;\n",
    "- added data categorization features for loan purpose and total_income."
   ]
  },
  {
   "cell_type": "markdown",
   "id": "c3bfa58b",
   "metadata": {},
   "source": [
    "# 3. Exploring the data and answering the data owner's questions"
   ]
  },
  {
   "cell_type": "markdown",
   "id": "54520b41",
   "metadata": {},
   "source": [
    "### List of questions:\n",
    "- Is there a correlation between the number of children and loan repayment on time?\n",
    "- Is there a correlation between marital status and loan repayment on time?\n",
    "- Is there a correlation between income level and loan repayment on time?\n",
    "- How do the different purposes of a loan affect its repayment on time?"
   ]
  },
  {
   "cell_type": "markdown",
   "id": "4afedefe",
   "metadata": {},
   "source": [
    "First of all, let's see the correlation matrix among features"
   ]
  },
  {
   "cell_type": "code",
   "execution_count": 24,
   "id": "107b3813",
   "metadata": {},
   "outputs": [
    {
     "data": {
      "image/png": "[encoded data removed]",
      "text/plain": [
       "<Figure size 900x500 with 2 Axes>"
      ]
     },
     "metadata": {},
     "output_type": "display_data"
    }
   ],
   "source": [
    "plt.figure(figsize=(9, 5))\n",
    "sns.heatmap(filtered_data.corr(), annot=True, cmap='coolwarm', linewidths=0.7)\n",
    "plt.title('Correlation between features')\n",
    "plt.show()"
   ]
  },
  {
   "cell_type": "markdown",
   "id": "bfbb63ff",
   "metadata": {},
   "source": [
    "The correlation coefficients with the **debt** feature are close to 0, we need to look in more detail at all 4 pairs"
   ]
  },
  {
   "cell_type": "markdown",
   "id": "77dd3961",
   "metadata": {},
   "source": [
    "Let's describe 3 auxiliary functions for building pivot table"
   ]
  },
  {
   "cell_type": "code",
   "execution_count": 25,
   "id": "72a98547",
   "metadata": {},
   "outputs": [],
   "source": [
    "def pivot_table_data(data, column_name):\n",
    "    \n",
    "    # add global benchmark\n",
    "    print('Average percentage of debtors for all borrowers: {0:.1%}'.format(data['debt'].mean()))\n",
    "    \n",
    "    # gather 3 key metrics for given column and 'debt'\n",
    "    table = pd.pivot_table(data, values='debt', index=[column_name], aggfunc={'debt': ['count', np.sum, np.mean]})\n",
    "    \n",
    "    # rename columns\n",
    "    table = table.rename(columns={\"count\": \"Total borrowers\", \"sum\": \"Total debtors\", \"mean\": \"Share of debtors, %\"})\n",
    "\n",
    "    table['Share of debtors, %'] = round(table['Share of debtors, %'] * 100, 1)\n",
    "    \n",
    "    # Sort the obtained table by the percent of debtors\n",
    "    table = table.sort_values(by=['Share of debtors, %'], ascending=False)\n",
    "    \n",
    "    # Add column with info about share of borrowers in caterory \n",
    "    numerator = table['Total borrowers'].sum()\n",
    "    \n",
    "    table['Share of borrowers by categories, %'] = table['Total borrowers'] / numerator\n",
    "    \n",
    "    table['Share of borrowers by categories, %'] = round(table['Share of borrowers by categories, %'] * 100, 1)\n",
    "    \n",
    "    return table"
   ]
  },
  {
   "cell_type": "code",
   "execution_count": 26,
   "id": "7f063170",
   "metadata": {},
   "outputs": [],
   "source": [
    "def scatter_plot(table, column_name):\n",
    "    \n",
    "    # Reset indexes to extract info from target feature\n",
    "    df = table.reset_index()\n",
    "    \n",
    "    plt.figure(figsize=(12, 3))\n",
    "    \n",
    "    # Create scatter plot chart\n",
    "    plt.scatter(df[column_name], df['Share of debtors, %'], s=df['Total borrowers']/2, alpha=0.7,\\\n",
    "                label='Total borrowers')\n",
    "    \n",
    "    # Add axis names and the chart title\n",
    "    plt.xlabel(column_name)\n",
    "    plt.ylabel('Share of debtors, %')\n",
    "    plt.title('Scatter Plot: ' + column_name + ' vs Share of debtors')\n",
    "    \n",
    "    # Set range on Oy to zoom-in\n",
    "    plt.ylim(df['Share of debtors, %'].min() * 0.8, df['Share of debtors, %'].max() * 1.2)\n",
    "    \n",
    "    plt.legend(markerscale=0.3)\n",
    "    \n",
    "    # Add the coordinates of the center of the circles\n",
    "    for i in range(len(df[column_name])):\n",
    "        x = df.loc[i, column_name]\n",
    "        y = df.loc[i, 'Share of debtors, %']\n",
    "        plt.text(x, y, f'{y}%', ha='center', va='bottom', fontsize=8)\n",
    "        \n",
    "    plt.show()"
   ]
  },
  {
   "cell_type": "code",
   "execution_count": 27,
   "id": "f650a04a",
   "metadata": {},
   "outputs": [],
   "source": [
    "def analysis_for_question(data, column_name):\n",
    "    \n",
    "    # Use the first subfunction\n",
    "    table = pivot_table_data(data, column_name)\n",
    "    \n",
    "    display(table)\n",
    "    \n",
    "    # Use the second subfunction    \n",
    "    scatter_plot(table, column_name)"
   ]
  },
  {
   "cell_type": "markdown",
   "id": "45faa53d",
   "metadata": {},
   "source": [
    "### Question 1\n",
    "- Is there a correlation between the number of children and loan repayment on time?"
   ]
  },
  {
   "cell_type": "code",
   "execution_count": 28,
   "id": "bdf91404",
   "metadata": {},
   "outputs": [
    {
     "name": "stdout",
     "output_type": "stream",
     "text": [
      "Average percentage of debtors for all borrowers: 8.2%\n"
     ]
    },
    {
     "data": {
      "text/html": [
       "<div>\n",
       "<style scoped>\n",
       "    .dataframe tbody tr th:only-of-type {\n",
       "        vertical-align: middle;\n",
       "    }\n",
       "\n",
       "    .dataframe tbody tr th {\n",
       "        vertical-align: top;\n",
       "    }\n",
       "\n",
       "    .dataframe thead th {\n",
       "        text-align: right;\n",
       "    }\n",
       "</style>\n",
       "<table border=\"1\" class=\"dataframe\">\n",
       "  <thead>\n",
       "    <tr style=\"text-align: right;\">\n",
       "      <th></th>\n",
       "      <th>Total borrowers</th>\n",
       "      <th>Share of debtors, %</th>\n",
       "      <th>Total debtors</th>\n",
       "      <th>Share of borrowers by categories, %</th>\n",
       "    </tr>\n",
       "    <tr>\n",
       "      <th>children</th>\n",
       "      <th></th>\n",
       "      <th></th>\n",
       "      <th></th>\n",
       "      <th></th>\n",
       "    </tr>\n",
       "  </thead>\n",
       "  <tbody>\n",
       "    <tr>\n",
       "      <th>4</th>\n",
       "      <td>40</td>\n",
       "      <td>10.0</td>\n",
       "      <td>4</td>\n",
       "      <td>0.2</td>\n",
       "    </tr>\n",
       "    <tr>\n",
       "      <th>2</th>\n",
       "      <td>2039</td>\n",
       "      <td>9.5</td>\n",
       "      <td>194</td>\n",
       "      <td>9.7</td>\n",
       "    </tr>\n",
       "    <tr>\n",
       "      <th>1</th>\n",
       "      <td>4751</td>\n",
       "      <td>9.3</td>\n",
       "      <td>444</td>\n",
       "      <td>22.6</td>\n",
       "    </tr>\n",
       "    <tr>\n",
       "      <th>3</th>\n",
       "      <td>329</td>\n",
       "      <td>8.2</td>\n",
       "      <td>27</td>\n",
       "      <td>1.6</td>\n",
       "    </tr>\n",
       "    <tr>\n",
       "      <th>0</th>\n",
       "      <td>13829</td>\n",
       "      <td>7.7</td>\n",
       "      <td>1061</td>\n",
       "      <td>65.9</td>\n",
       "    </tr>\n",
       "    <tr>\n",
       "      <th>5</th>\n",
       "      <td>9</td>\n",
       "      <td>0.0</td>\n",
       "      <td>0</td>\n",
       "      <td>0.0</td>\n",
       "    </tr>\n",
       "  </tbody>\n",
       "</table>\n",
       "</div>"
      ],
      "text/plain": [
       "          Total borrowers  Share of debtors, %  Total debtors  \\\n",
       "children                                                        \n",
       "4                      40                 10.0              4   \n",
       "2                    2039                  9.5            194   \n",
       "1                    4751                  9.3            444   \n",
       "3                     329                  8.2             27   \n",
       "0                   13829                  7.7           1061   \n",
       "5                       9                  0.0              0   \n",
       "\n",
       "          Share of borrowers by categories, %  \n",
       "children                                       \n",
       "4                                         0.2  \n",
       "2                                         9.7  \n",
       "1                                        22.6  \n",
       "3                                         1.6  \n",
       "0                                        65.9  \n",
       "5                                         0.0  "
      ]
     },
     "metadata": {},
     "output_type": "display_data"
    },
    {
     "data": {
      "image/png": "[encoded data removed]",
      "text/plain": [
       "<Figure size 1200x300 with 1 Axes>"
      ]
     },
     "metadata": {},
     "output_type": "display_data"
    }
   ],
   "source": [
    "analysis_for_question(filtered_data, 'children')"
   ]
  },
  {
   "cell_type": "markdown",
   "id": "d1dbef28",
   "metadata": {},
   "source": [
    "### Answer to question 1\n",
    "- The number of loan borrowers with 3 or more children is less than 2%. There is not enough data on these groups to draw conclusions on them.\n",
    "\n",
    "- We can observe that borrowers with 1 or 2 children repay loans **less frequently than borrowers without children by 1.7 and 2 percentage points**. And 1.1 and 1.4 percentage points more often than the average of all borrowers."
   ]
  },
  {
   "cell_type": "markdown",
   "id": "fef5eb51",
   "metadata": {},
   "source": [
    "### Question 2\n",
    "- Is there a correlation between marital status and loan repayment on time?"
   ]
  },
  {
   "cell_type": "code",
   "execution_count": 29,
   "id": "6d70140d",
   "metadata": {},
   "outputs": [
    {
     "name": "stdout",
     "output_type": "stream",
     "text": [
      "Average percentage of debtors for all borrowers: 8.2%\n"
     ]
    },
    {
     "data": {
      "text/html": [
       "<div>\n",
       "<style scoped>\n",
       "    .dataframe tbody tr th:only-of-type {\n",
       "        vertical-align: middle;\n",
       "    }\n",
       "\n",
       "    .dataframe tbody tr th {\n",
       "        vertical-align: top;\n",
       "    }\n",
       "\n",
       "    .dataframe thead th {\n",
       "        text-align: right;\n",
       "    }\n",
       "</style>\n",
       "<table border=\"1\" class=\"dataframe\">\n",
       "  <thead>\n",
       "    <tr style=\"text-align: right;\">\n",
       "      <th></th>\n",
       "      <th>Total borrowers</th>\n",
       "      <th>Share of debtors, %</th>\n",
       "      <th>Total debtors</th>\n",
       "      <th>Share of borrowers by categories, %</th>\n",
       "    </tr>\n",
       "    <tr>\n",
       "      <th>family_status</th>\n",
       "      <th></th>\n",
       "      <th></th>\n",
       "      <th></th>\n",
       "      <th></th>\n",
       "    </tr>\n",
       "  </thead>\n",
       "  <tbody>\n",
       "    <tr>\n",
       "      <th>Не женат / не замужем</th>\n",
       "      <td>2770</td>\n",
       "      <td>9.9</td>\n",
       "      <td>273</td>\n",
       "      <td>13.2</td>\n",
       "    </tr>\n",
       "    <tr>\n",
       "      <th>гражданский брак</th>\n",
       "      <td>4107</td>\n",
       "      <td>9.4</td>\n",
       "      <td>385</td>\n",
       "      <td>19.6</td>\n",
       "    </tr>\n",
       "    <tr>\n",
       "      <th>женат / замужем</th>\n",
       "      <td>11998</td>\n",
       "      <td>7.7</td>\n",
       "      <td>925</td>\n",
       "      <td>57.1</td>\n",
       "    </tr>\n",
       "    <tr>\n",
       "      <th>в разводе</th>\n",
       "      <td>1187</td>\n",
       "      <td>7.1</td>\n",
       "      <td>84</td>\n",
       "      <td>5.7</td>\n",
       "    </tr>\n",
       "    <tr>\n",
       "      <th>вдовец / вдова</th>\n",
       "      <td>935</td>\n",
       "      <td>6.7</td>\n",
       "      <td>63</td>\n",
       "      <td>4.5</td>\n",
       "    </tr>\n",
       "  </tbody>\n",
       "</table>\n",
       "</div>"
      ],
      "text/plain": [
       "                       Total borrowers  Share of debtors, %  Total debtors  \\\n",
       "family_status                                                                \n",
       "Не женат / не замужем             2770                  9.9            273   \n",
       "гражданский брак                  4107                  9.4            385   \n",
       "женат / замужем                  11998                  7.7            925   \n",
       "в разводе                         1187                  7.1             84   \n",
       "вдовец / вдова                     935                  6.7             63   \n",
       "\n",
       "                       Share of borrowers by categories, %  \n",
       "family_status                                               \n",
       "Не женат / не замужем                                 13.2  \n",
       "гражданский брак                                      19.6  \n",
       "женат / замужем                                       57.1  \n",
       "в разводе                                              5.7  \n",
       "вдовец / вдова                                         4.5  "
      ]
     },
     "metadata": {},
     "output_type": "display_data"
    },
    {
     "data": {
      "image/png": "[encoded data removed]",
      "text/plain": [
       "<Figure size 1200x300 with 1 Axes>"
      ]
     },
     "metadata": {},
     "output_type": "display_data"
    }
   ],
   "source": [
    "analysis_for_question(filtered_data, 'family_status')"
   ]
  },
  {
   "cell_type": "markdown",
   "id": "b21d6085",
   "metadata": {},
   "source": [
    "### Answer to question 2\n",
    "- The groups of borrowers **\"Not married/not married\"** and **\"Civil marriage\"** have default rates above the average for all borrowers by 1.7 and 1.2 percentage points, respectively, which **can be considered as significant outliers**.\n",
    "\n",
    "- The other 3 groups have default rates below average. The group **\"married\"** by 0.5 percentage points, **\"divorced\"** by 1 p.p. and **\"widower/widow\"** by 1.5 p.p."
   ]
  },
  {
   "cell_type": "markdown",
   "id": "06271fb5",
   "metadata": {},
   "source": [
    "### Question 3\n",
    "- Is there a correlation between income level and loan repayment on time?"
   ]
  },
  {
   "cell_type": "code",
   "execution_count": 30,
   "id": "e1bf3c2a",
   "metadata": {},
   "outputs": [
    {
     "name": "stdout",
     "output_type": "stream",
     "text": [
      "Average percentage of debtors for all borrowers: 8.2%\n"
     ]
    },
    {
     "data": {
      "text/html": [
       "<div>\n",
       "<style scoped>\n",
       "    .dataframe tbody tr th:only-of-type {\n",
       "        vertical-align: middle;\n",
       "    }\n",
       "\n",
       "    .dataframe tbody tr th {\n",
       "        vertical-align: top;\n",
       "    }\n",
       "\n",
       "    .dataframe thead th {\n",
       "        text-align: right;\n",
       "    }\n",
       "</style>\n",
       "<table border=\"1\" class=\"dataframe\">\n",
       "  <thead>\n",
       "    <tr style=\"text-align: right;\">\n",
       "      <th></th>\n",
       "      <th>Total borrowers</th>\n",
       "      <th>Share of debtors, %</th>\n",
       "      <th>Total debtors</th>\n",
       "      <th>Share of borrowers by categories, %</th>\n",
       "    </tr>\n",
       "    <tr>\n",
       "      <th>total_income_category</th>\n",
       "      <th></th>\n",
       "      <th></th>\n",
       "      <th></th>\n",
       "      <th></th>\n",
       "    </tr>\n",
       "  </thead>\n",
       "  <tbody>\n",
       "    <tr>\n",
       "      <th>E</th>\n",
       "      <td>22</td>\n",
       "      <td>9.1</td>\n",
       "      <td>2</td>\n",
       "      <td>0.1</td>\n",
       "    </tr>\n",
       "    <tr>\n",
       "      <th>C</th>\n",
       "      <td>15587</td>\n",
       "      <td>8.7</td>\n",
       "      <td>1351</td>\n",
       "      <td>74.2</td>\n",
       "    </tr>\n",
       "    <tr>\n",
       "      <th>A</th>\n",
       "      <td>25</td>\n",
       "      <td>8.0</td>\n",
       "      <td>2</td>\n",
       "      <td>0.1</td>\n",
       "    </tr>\n",
       "    <tr>\n",
       "      <th>B</th>\n",
       "      <td>5014</td>\n",
       "      <td>7.1</td>\n",
       "      <td>354</td>\n",
       "      <td>23.9</td>\n",
       "    </tr>\n",
       "    <tr>\n",
       "      <th>D</th>\n",
       "      <td>349</td>\n",
       "      <td>6.0</td>\n",
       "      <td>21</td>\n",
       "      <td>1.7</td>\n",
       "    </tr>\n",
       "  </tbody>\n",
       "</table>\n",
       "</div>"
      ],
      "text/plain": [
       "                       Total borrowers  Share of debtors, %  Total debtors  \\\n",
       "total_income_category                                                        \n",
       "E                                   22                  9.1              2   \n",
       "C                                15587                  8.7           1351   \n",
       "A                                   25                  8.0              2   \n",
       "B                                 5014                  7.1            354   \n",
       "D                                  349                  6.0             21   \n",
       "\n",
       "                       Share of borrowers by categories, %  \n",
       "total_income_category                                       \n",
       "E                                                      0.1  \n",
       "C                                                     74.2  \n",
       "A                                                      0.1  \n",
       "B                                                     23.9  \n",
       "D                                                      1.7  "
      ]
     },
     "metadata": {},
     "output_type": "display_data"
    },
    {
     "data": {
      "image/png": "[encoded data removed]",
      "text/plain": [
       "<Figure size 1200x300 with 1 Axes>"
      ]
     },
     "metadata": {},
     "output_type": "display_data"
    }
   ],
   "source": [
    "analysis_for_question(filtered_data, 'total_income_category')"
   ]
  },
  {
   "cell_type": "markdown",
   "id": "a1c8ecbc",
   "metadata": {},
   "source": [
    "### Answer to question 3\n",
    "- The number of borrowers from categories \"A\", \"D\", \"E\" is less than 2%. There is not enough data on these groups to draw conclusions on them.\n",
    "\n",
    "- We can see that borrowers from **category \"B\"** (income from 200,000 to 1000,000) **repay loans better than those from category \"C\"** (50,000 - 200,000). At the same time, category \"B\" is below average (7.1% < 8.2%) and \"C\" is already above average (8.7% > 8.2%)"
   ]
  },
  {
   "cell_type": "markdown",
   "id": "4f99a7d7",
   "metadata": {},
   "source": [
    "### Question 4\n",
    "- How do the different purposes of a loan affect its repayment on time?"
   ]
  },
  {
   "cell_type": "code",
   "execution_count": 31,
   "id": "a5849a04",
   "metadata": {},
   "outputs": [
    {
     "name": "stdout",
     "output_type": "stream",
     "text": [
      "Average percentage of debtors for all borrowers: 8.2%\n"
     ]
    },
    {
     "data": {
      "text/html": [
       "<div>\n",
       "<style scoped>\n",
       "    .dataframe tbody tr th:only-of-type {\n",
       "        vertical-align: middle;\n",
       "    }\n",
       "\n",
       "    .dataframe tbody tr th {\n",
       "        vertical-align: top;\n",
       "    }\n",
       "\n",
       "    .dataframe thead th {\n",
       "        text-align: right;\n",
       "    }\n",
       "</style>\n",
       "<table border=\"1\" class=\"dataframe\">\n",
       "  <thead>\n",
       "    <tr style=\"text-align: right;\">\n",
       "      <th></th>\n",
       "      <th>Total borrowers</th>\n",
       "      <th>Share of debtors, %</th>\n",
       "      <th>Total debtors</th>\n",
       "      <th>Share of borrowers by categories, %</th>\n",
       "    </tr>\n",
       "    <tr>\n",
       "      <th>purpose_category</th>\n",
       "      <th></th>\n",
       "      <th></th>\n",
       "      <th></th>\n",
       "      <th></th>\n",
       "    </tr>\n",
       "  </thead>\n",
       "  <tbody>\n",
       "    <tr>\n",
       "      <th>Education</th>\n",
       "      <td>3939</td>\n",
       "      <td>9.4</td>\n",
       "      <td>369</td>\n",
       "      <td>18.8</td>\n",
       "    </tr>\n",
       "    <tr>\n",
       "      <th>Vehicle</th>\n",
       "      <td>4245</td>\n",
       "      <td>9.4</td>\n",
       "      <td>399</td>\n",
       "      <td>20.2</td>\n",
       "    </tr>\n",
       "    <tr>\n",
       "      <th>Wedding</th>\n",
       "      <td>2295</td>\n",
       "      <td>8.0</td>\n",
       "      <td>183</td>\n",
       "      <td>10.9</td>\n",
       "    </tr>\n",
       "    <tr>\n",
       "      <th>Real estate</th>\n",
       "      <td>10518</td>\n",
       "      <td>7.4</td>\n",
       "      <td>779</td>\n",
       "      <td>50.1</td>\n",
       "    </tr>\n",
       "  </tbody>\n",
       "</table>\n",
       "</div>"
      ],
      "text/plain": [
       "                  Total borrowers  Share of debtors, %  Total debtors  \\\n",
       "purpose_category                                                        \n",
       "Education                    3939                  9.4            369   \n",
       "Vehicle                      4245                  9.4            399   \n",
       "Wedding                      2295                  8.0            183   \n",
       "Real estate                 10518                  7.4            779   \n",
       "\n",
       "                  Share of borrowers by categories, %  \n",
       "purpose_category                                       \n",
       "Education                                        18.8  \n",
       "Vehicle                                          20.2  \n",
       "Wedding                                          10.9  \n",
       "Real estate                                      50.1  "
      ]
     },
     "metadata": {},
     "output_type": "display_data"
    },
    {
     "data": {
      "image/png": "[encoded data removed]",
      "text/plain": [
       "<Figure size 1200x300 with 1 Axes>"
      ]
     },
     "metadata": {},
     "output_type": "display_data"
    }
   ],
   "source": [
    "analysis_for_question(filtered_data, 'purpose_category')"
   ]
  },
  {
   "cell_type": "markdown",
   "id": "51495677",
   "metadata": {},
   "source": [
    "### Answer to question 4\n",
    "- We can see that the default repay loan rate for borrowers with the purposes **\"Vehicle\"** and **\"Education\"** is 1.2 percentage points higher than the average value (8.2%).\n",
    "\n",
    "- Non-returns among the borrowers with the purpose **\"Wedding\"** are close to the average value.\n",
    "\n",
    "- Non-repayment among borrowers with the purpose of \"Real estate\" is already noticeably lower than the average value by 0.8 p.p. Here we can add that the risk of losing house is a serious incentive for borrowers."
   ]
  },
  {
   "cell_type": "markdown",
   "id": "5570b295",
   "metadata": {},
   "source": [
    "# 4. Project outcomes\n",
    "\n",
    "- We filled in gaps in the initial data, processed abnormal values, removed explicit and implicit duplicates, added data categorization features for loan purpose and total income. A separate study is needed to determine the reasons of problems in raw data (that could have been caused by technical or human factors).\n",
    "\n",
    "- Average loan repayment rate is 8.2% for all borrowers.\n",
    "\n",
    "- The loan repayment rate is directly affected by the number of children, which is a potential risk for borrowers and banks.\n",
    "\n",
    "- Family status is possibly correlated with the age and hence income level of the borrowers, so the risk of non-repayment is higher for the groups \"Not married\" and \"Civil marriage\".\n",
    "\n",
    "- The income level directly affects the loan repayment rate.\n",
    "\n",
    "- Borrowers with the purpose of \"Real estate\" are more disciplined than others, which may be associated with the risk of losing their living places."
   ]
  }
 ],
 "metadata": {
  "kernelspec": {
   "display_name": "Python 3 (ipykernel)",
   "language": "python",
   "name": "python3"
  },
  "language_info": {
   "codemirror_mode": {
    "name": "ipython",
    "version": 3
   },
   "file_extension": ".py",
   "mimetype": "text/x-python",
   "name": "python",
   "nbconvert_exporter": "python",
   "pygments_lexer": "ipython3",
   "version": "3.9.13"
  }
 },
 "nbformat": 4,
 "nbformat_minor": 5
}
